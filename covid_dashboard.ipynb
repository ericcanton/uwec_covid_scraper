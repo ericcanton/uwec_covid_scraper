{
 "cells": [
  {
   "cell_type": "markdown",
   "metadata": {},
   "source": [
    "# UWEC Covid Dashboard\n",
    "by Silviana Amethyst, PhD\n",
    "\n",
    "amethyst@uwec.edu"
   ]
  },
  {
   "cell_type": "code",
   "execution_count": 1,
   "metadata": {},
   "outputs": [],
   "source": [
    "import uwecscraper"
   ]
  },
  {
   "cell_type": "code",
   "execution_count": 2,
   "metadata": {},
   "outputs": [],
   "source": [
    "data = uwecscraper.read_daily_websites()"
   ]
  },
  {
   "cell_type": "code",
   "execution_count": 3,
   "metadata": {},
   "outputs": [
    {
     "name": "stdout",
     "output_type": "stream",
     "text": [
      "2020-09-10T17.00.00_0.html\n",
      "2020-09-17T15.55.00_0.html\n",
      "2020-09-17T15.55.00_1.html\n",
      "Untitled.ipynb\n",
      "2020-09-21T15.38.00_0.html\n",
      "2020-09-14T14.50.00_0.html\n",
      "2020-09-21T15.38.00_1.html\n",
      "2020-09-14T16.44.00_0.html\n",
      "2020-09-23T15.14.00_0.html\n",
      "2020-09-16T15.33.00_0.html\n",
      "2020-09-13T13.29.00_0.html\n",
      "2020-09-14T13.29.00_0.html\n",
      "2020-09-23T15.14.00_1.html\n",
      "2020-09-18T15.51.00_0.html\n",
      "2020-09-15T15.47.00_0.html\n",
      "2020-09-22T15.21.00_0.html\n"
     ]
    }
   ],
   "source": [
    "for k,v in data.items():\n",
    "    print(k)"
   ]
  },
  {
   "cell_type": "code",
   "execution_count": null,
   "metadata": {},
   "outputs": [],
   "source": []
  }
 ],
 "metadata": {
  "kernelspec": {
   "display_name": "Python 3",
   "language": "python",
   "name": "python3"
  },
  "language_info": {
   "codemirror_mode": {
    "name": "ipython",
    "version": 3
   },
   "file_extension": ".py",
   "mimetype": "text/x-python",
   "name": "python",
   "nbconvert_exporter": "python",
   "pygments_lexer": "ipython3",
   "version": "3.7.4"
  }
 },
 "nbformat": 4,
 "nbformat_minor": 4
}
